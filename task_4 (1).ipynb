{
  "nbformat": 4,
  "nbformat_minor": 0,
  "metadata": {
    "colab": {
      "provenance": []
    },
    "kernelspec": {
      "name": "python3",
      "display_name": "Python 3"
    },
    "language_info": {
      "name": "python"
    }
  },
  "cells": [
    {
      "cell_type": "code",
      "execution_count": null,
      "metadata": {
        "colab": {
          "base_uri": "https://localhost:8080/"
        },
        "id": "IbE8U8oGtdak",
        "outputId": "4277a7ba-4d5a-4be4-c68d-28a133d46418"
      },
      "outputs": [
        {
          "output_type": "stream",
          "name": "stdout",
          "text": [
            "Enter the first no35\n",
            "Enter the second no2\n",
            "70\n"
          ]
        }
      ],
      "source": [
        "a= int(input(\"Enter the first no\"))\n",
        "b= int(input(\"Enter the second no\"))\n",
        "c=a*b\n",
        "print(c)"
      ]
    }
  ]
}