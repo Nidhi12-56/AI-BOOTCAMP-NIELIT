{
  "nbformat": 4,
  "nbformat_minor": 0,
  "metadata": {
    "colab": {
      "provenance": []
    },
    "kernelspec": {
      "name": "python3",
      "display_name": "Python 3"
    },
    "language_info": {
      "name": "python"
    }
  },
  "cells": [
    {
      "cell_type": "code",
      "execution_count": null,
      "metadata": {
        "id": "AXnSrRWBAW8v"
      },
      "outputs": [],
      "source": [
        "a=int(input(\"Enter the value\"))\n",
        "b=int(input(\"Enter the value\"))\n",
        "c=a+b\n",
        "print(c)"
      ]
    }
  ]
}